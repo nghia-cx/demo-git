{
 "cells": [
  {
   "cell_type": "markdown",
   "metadata": {},
   "source": [
    "# Server"
   ]
  },
  {
   "cell_type": "markdown",
   "metadata": {},
   "source": [
    "### Libraries"
   ]
  },
  {
   "cell_type": "markdown",
   "metadata": {},
   "source": [
    "Install libraries"
   ]
  },
  {
   "cell_type": "code",
   "execution_count": 3,
   "metadata": {},
   "outputs": [],
   "source": [
    "# %pip install -r requirements.txt"
   ]
  },
  {
   "cell_type": "markdown",
   "metadata": {},
   "source": [
    "Import libraries"
   ]
  },
  {
   "cell_type": "code",
   "execution_count": 4,
   "metadata": {},
   "outputs": [
    {
     "ename": "ModuleNotFoundError",
     "evalue": "No module named 'Crypto'",
     "output_type": "error",
     "traceback": [
      "\u001b[1;31m---------------------------------------------------------------------------\u001b[0m",
      "\u001b[1;31mModuleNotFoundError\u001b[0m                       Traceback (most recent call last)",
      "\u001b[1;32m~\\AppData\\Local\\Temp\\ipykernel_22084\\993244512.py\u001b[0m in \u001b[0;36m<module>\u001b[1;34m\u001b[0m\n\u001b[0;32m      2\u001b[0m \u001b[1;32mimport\u001b[0m \u001b[0mnumpy\u001b[0m \u001b[1;32mas\u001b[0m \u001b[0mnp\u001b[0m\u001b[1;33m\u001b[0m\u001b[1;33m\u001b[0m\u001b[0m\n\u001b[0;32m      3\u001b[0m \u001b[1;32mimport\u001b[0m \u001b[0mcv2\u001b[0m\u001b[1;33m\u001b[0m\u001b[1;33m\u001b[0m\u001b[0m\n\u001b[1;32m----> 4\u001b[1;33m \u001b[1;32mfrom\u001b[0m \u001b[0mCrypto\u001b[0m\u001b[1;33m.\u001b[0m\u001b[0mCipher\u001b[0m \u001b[1;32mimport\u001b[0m \u001b[0mAES\u001b[0m\u001b[1;33m\u001b[0m\u001b[1;33m\u001b[0m\u001b[0m\n\u001b[0m\u001b[0;32m      5\u001b[0m \u001b[1;32mimport\u001b[0m \u001b[0mos\u001b[0m\u001b[1;33m\u001b[0m\u001b[1;33m\u001b[0m\u001b[0m\n\u001b[0;32m      6\u001b[0m \u001b[1;32mimport\u001b[0m \u001b[0mglob\u001b[0m\u001b[1;33m\u001b[0m\u001b[1;33m\u001b[0m\u001b[0m\n",
      "\u001b[1;31mModuleNotFoundError\u001b[0m: No module named 'Crypto'"
     ]
    }
   ],
   "source": [
    "import socket\n",
    "import numpy as np\n",
    "import cv2\n",
    "from Crypto.Cipher import AES\n",
    "import os\n",
    "import glob\n",
    "import time\n",
    "from Crypto import Random"
   ]
  },
  {
   "cell_type": "markdown",
   "metadata": {},
   "source": [
    "### Server socket"
   ]
  },
  {
   "cell_type": "code",
   "execution_count": null,
   "metadata": {},
   "outputs": [],
   "source": [
    "HOST='192.168.1.2'\n",
    "PORT=8000\n",
    "WIDTH = 960\n",
    "HEIGHT = 540\n",
    "s = socket.socket(socket.AF_INET, socket.SOCK_STREAM)\n",
    "s.bind((HOST, PORT))\n",
    "s.listen(2)"
   ]
  },
  {
   "cell_type": "markdown",
   "metadata": {},
   "source": [
    "### Helps function:\n",
    "- Receive data\n",
    "- Generate 128/192/256 bit key from any key\n",
    "- Make folder to save datas\n",
    "- Socket connection\n",
    "- Caputure an image from camera"
   ]
  },
  {
   "cell_type": "code",
   "execution_count": null,
   "metadata": {},
   "outputs": [],
   "source": [
    "def recv_all(sc, length):\n",
    "    data = sc.recv(length)\n",
    "    while True:\n",
    "        miss_len_data = length - len(data)\n",
    "        if miss_len_data==0:\n",
    "            break\n",
    "        data += sc.recv(miss_len_data)\n",
    "    return data\n",
    "\n",
    "def generateAESKey(key_string, len_key):\n",
    "    '''Generate 128/192/256 bit key from any key'''\n",
    "    key = bytes(key_string,\"utf8\")\n",
    "    while len(key)<len_key:\n",
    "        key = key + key\n",
    "    return key[:len_key]\n",
    "\n",
    "def make_folder(folder_name):\n",
    "    path_f = os.path.abspath('')\n",
    "    if os.path.isdir(path_f+\"/\"+folder_name) == False:\n",
    "        os.mkdir(path_f+\"/\"+folder_name)\n",
    "    list_folder = glob.glob(path_f+\"/\"+folder_name+\"/*\")\n",
    "    max=0\n",
    "    for i in list_folder:\n",
    "        try:\n",
    "            num = int(i.split(\"-\")[1])\n",
    "            if(max<num): max = num\n",
    "        except: continue\n",
    "    path = path_f+\"/\"+folder_name+\"/data-\"+str(max+1)\n",
    "    os.mkdir(path)\n",
    "    return path\n",
    "\n",
    "# connect to client\n",
    "def connect(s):\n",
    "    print(\"Connecting...\")\n",
    "    try: \n",
    "        client, addr = s.accept()\n",
    "        print('Connected by', addr)\n",
    "        \n",
    "    except:\n",
    "        print(\"Run Client.py, Please\")\n",
    "    return client, addr\n",
    "\n",
    "def takeImage(folder_save):\n",
    "    print(\"Waiting for your camera...\")\n",
    "    vid = cv2.VideoCapture(0)\n",
    "    # capture image \n",
    "    while True:\n",
    "        rate,frame = vid.read() # read image from camera\n",
    "        frame = cv2.resize(frame,(WIDTH,HEIGHT)) # resize image        \n",
    "        \n",
    "        if cv2.waitKey(1) & 0xFF == ord(' '): \n",
    "            # create folder\n",
    "            \n",
    "            cv2.imwrite(folder_save+\"/The-original-image.bmp\",frame) # save image\n",
    "            cv2.destroyWindow(\"Camera\")\n",
    "            cv2.imshow(\"Capture\",frame) # show image\n",
    "            print(\"Took photos!\")\n",
    "            break\n",
    "        frame = cv2.putText(frame, \"Press 'space' to take a photo\", (10,20), cv2.FONT_HERSHEY_SIMPLEX, 0.5, (0,0,255), 2)\n",
    "        cv2.imshow(\"Capture\",frame) # show image\n",
    "    cv2.destroyAllWindows()\n",
    "    return frame\n",
    "    \n",
    "\n",
    "    "
   ]
  },
  {
   "cell_type": "markdown",
   "metadata": {},
   "source": [
    "### AES encryption and decryption"
   ]
  },
  {
   "cell_type": "code",
   "execution_count": null,
   "metadata": {},
   "outputs": [],
   "source": [
    "LENGTH_IV = AES.block_size\n",
    "def encode_AES(data, key, mode):\n",
    "    if mode != AES.MODE_ECB:\n",
    "        IV = Random.new().read(LENGTH_IV)\n",
    "        cipher = AES.new(key, mode, IV)\n",
    "        ciphertext =   IV + cipher.encrypt(data)\n",
    "    else:\n",
    "        cipher = AES.new(key, AES.MODE_ECB)\n",
    "        ciphertext = cipher.encrypt(data)\n",
    "    return ciphertext\n",
    "\n",
    "def decode_AES(data_enc, key, mode): # decode AES\n",
    "    if mode != AES.MODE_ECB:\n",
    "        IV_rec = data_enc[:LENGTH_IV]\n",
    "        cipher = AES.new(key, mode, IV_rec)\n",
    "        plaintext = cipher.decrypt(data_enc[LENGTH_IV:])\n",
    "    else:\n",
    "        cipher = AES.new(key, AES.MODE_ECB)\n",
    "        plaintext = cipher.decrypt(data_enc)\n",
    "    return plaintext"
   ]
  },
  {
   "cell_type": "markdown",
   "metadata": {},
   "source": [
    "### Function that send an image to the client"
   ]
  },
  {
   "cell_type": "code",
   "execution_count": null,
   "metadata": {},
   "outputs": [],
   "source": [
    "def sendImage(client, image, key_AES, mode, save_path):\n",
    "    print(\"Waiting for Client... \")\n",
    "    \n",
    "    # encode image\n",
    "    st_time = time.time()\n",
    "    im_byte = np.array(image).tobytes() # image -> bytes\n",
    "    data_enc = encode_AES(im_byte, key_AES, mode) # encode AES\n",
    "    enc_time = time.time()\n",
    "    print(\" - Encoded AES-%d (%.3f seconds)\" %(8*len(key_AES),enc_time-st_time))\n",
    "\n",
    "    # Send data\n",
    "    print(\" - Sending data to client...\")\n",
    "    client.send(data_enc) # send encoded data \n",
    "    recv_all(client,4) # wait server response\n",
    "    print(\"   Client has received data! \" )\n",
    "\n",
    "    f_data_enc = open(save_path+\"/Data-sent-to-client.enc\", \"wb\")\n",
    "    f_data_enc.write(data_enc)\n",
    "    f_data_enc.close()\n",
    "\n",
    "    # Show image encoded\n",
    "    if mode ==AES.MODE_ECB:\n",
    "        data_enc = np.frombuffer(data_enc, dtype = np.uint8)   #encoded data -> array\n",
    "    else:\n",
    "        data_enc = np.frombuffer(data_enc[LENGTH_IV:], dtype = np.uint8)\n",
    "    data_enc = data_enc.reshape(HEIGHT, WIDTH, 3) # array encoded-> encoded image \n",
    "\n",
    "    cv2.imshow(\"Image encoded\",data_enc) # show encoded image\n",
    "    cv2.imwrite(save_path+\"/AES-encrypted-image.bmp\", data_enc)\n",
    "    cv2.waitKey(0)\n",
    "    print(\"Done!\")"
   ]
  },
  {
   "cell_type": "markdown",
   "metadata": {},
   "source": [
    "### Main function"
   ]
  },
  {
   "cell_type": "markdown",
   "metadata": {},
   "source": [
    "- **Enter key**"
   ]
  },
  {
   "cell_type": "code",
   "execution_count": null,
   "metadata": {},
   "outputs": [],
   "source": [
    "key = \"Nhom-17\"\n",
    "\n",
    "key_AES = generateAESKey(key, 16) # create AES key (128bit)\n",
    "print(\"Your AES key: \", key_AES)"
   ]
  },
  {
   "cell_type": "markdown",
   "metadata": {},
   "source": [
    "- **Make a connection to the client**"
   ]
  },
  {
   "cell_type": "code",
   "execution_count": null,
   "metadata": {},
   "outputs": [],
   "source": [
    "client, addr = connect(s) "
   ]
  },
  {
   "cell_type": "markdown",
   "metadata": {},
   "source": [
    "- **Take an image from camera**"
   ]
  },
  {
   "cell_type": "code",
   "execution_count": null,
   "metadata": {},
   "outputs": [],
   "source": [
    "save_path = make_folder(\"Server_images\") # make folder to save image\n",
    "image = takeImage(save_path)    # take image from camera"
   ]
  },
  {
   "cell_type": "markdown",
   "metadata": {},
   "source": [
    "#### Transmit the image with ECB mode"
   ]
  },
  {
   "cell_type": "code",
   "execution_count": null,
   "metadata": {},
   "outputs": [],
   "source": [
    "sendImage(client, image, key_AES, AES.MODE_ECB, save_path)"
   ]
  },
  {
   "cell_type": "markdown",
   "metadata": {},
   "source": [
    "#### Transmit the image with ECB mode"
   ]
  },
  {
   "cell_type": "code",
   "execution_count": null,
   "metadata": {},
   "outputs": [],
   "source": [
    "sendImage(client, image, key_AES, AES.MODE_CBC, save_path)"
   ]
  },
  {
   "cell_type": "code",
   "execution_count": null,
   "metadata": {},
   "outputs": [],
   "source": [
    "client.close()"
   ]
  }
 ],
 "metadata": {
  "kernelspec": {
   "display_name": "Python 3 (ipykernel)",
   "language": "python",
   "name": "python3"
  },
  "language_info": {
   "codemirror_mode": {
    "name": "ipython",
    "version": 3
   },
   "file_extension": ".py",
   "mimetype": "text/x-python",
   "name": "python",
   "nbconvert_exporter": "python",
   "pygments_lexer": "ipython3",
   "version": "3.7.1"
  },
  "vscode": {
   "interpreter": {
    "hash": "0e12e1953439dfb633b30a9268ae885e7cfa4fa3a9c76f3e2e58e6ca61aee453"
   }
  }
 },
 "nbformat": 4,
 "nbformat_minor": 2
}
