{
 "cells": [
  {
   "cell_type": "markdown",
   "metadata": {},
   "source": [
    "### Libraries"
   ]
  },
  {
   "cell_type": "markdown",
   "metadata": {},
   "source": [
    "Install libraries"
   ]
  },
  {
   "cell_type": "code",
   "execution_count": 1,
   "metadata": {},
   "outputs": [
    {
     "name": "stdout",
     "output_type": "stream",
     "text": [
      "C:\\Users\\DELL\\Documents\\Python\\AES\n"
     ]
    }
   ],
   "source": [
    "%cd \"C:\\Users\\DELL\\Documents\\Python\\AES\""
   ]
  },
  {
   "cell_type": "code",
   "execution_count": 2,
   "metadata": {},
   "outputs": [],
   "source": [
    "# %pip install -r requirements.txt"
   ]
  },
  {
   "cell_type": "markdown",
   "metadata": {},
   "source": [
    "Import libraries"
   ]
  },
  {
   "cell_type": "code",
   "execution_count": 3,
   "metadata": {},
   "outputs": [
    {
     "name": "stdout",
     "output_type": "stream",
     "text": [
      "C:\\Users\\DELL\\Documents\\Python\\venv\\lib\\site-packages\\numpy\\.libs\\libopenblas.XWYDX2IKJW2NMTWSFYNGFUWKQU3LYTCZ.gfortran-win_amd64.dll\n"
     ]
    }
   ],
   "source": [
    "import socket\n",
    "import numpy as np\n",
    "import cv2\n",
    "from Crypto.Cipher import AES\n",
    "from Crypto import Random\n",
    "import os\n",
    "import glob\n",
    "import time\n",
    "import matplotlib.pyplot as plt\n",
    "import matplotlib.image as mpimg"
   ]
  },
  {
   "cell_type": "markdown",
   "metadata": {},
   "source": [
    "### Client socket"
   ]
  },
  {
   "cell_type": "code",
   "execution_count": 4,
   "metadata": {},
   "outputs": [],
   "source": [
    "HOST='192.168.137.1'\n",
    "PORT=8000\n",
    "WIDTH = 668\n",
    "HEIGHT = 960\n",
    "SC = socket.socket(socket.AF_INET, socket.SOCK_STREAM)\n",
    "server_address = (HOST, PORT)"
   ]
  },
  {
   "cell_type": "markdown",
   "metadata": {},
   "source": [
    "### Helps function:\n",
    "- Receive data\n",
    "- Generate 128/192/256 bit key from any key\n",
    "- Make folder to save datas\n",
    "- Socket connection"
   ]
  },
  {
   "cell_type": "code",
   "execution_count": 5,
   "metadata": {},
   "outputs": [],
   "source": [
    "def recv_all(sc, length):\n",
    "    data = sc.recv(length)\n",
    "    while True:\n",
    "        miss_len_data = length - len(data)\n",
    "        if miss_len_data==0:\n",
    "            break\n",
    "        data += sc.recv(miss_len_data)\n",
    "    return data\n",
    "\n",
    "def generateAESKey(key_string, len_key):\n",
    "    '''Generate 128/192/256 bit key from any key'''\n",
    "    key = bytes(key_string,\"utf8\")\n",
    "    while len(key)<len_key:\n",
    "        key = key + key\n",
    "    return key[:len_key]\n",
    "\n",
    "def make_folder(folder_name):\n",
    "    path_f = os.path.abspath('')\n",
    "    if os.path.isdir(path_f+\"/\"+folder_name) == False:\n",
    "        os.mkdir(path_f+\"/\"+folder_name)\n",
    "    list_folder = glob.glob(path_f+\"/\"+folder_name+\"/*\")\n",
    "    max=0\n",
    "    for i in list_folder:\n",
    "        try:\n",
    "            num = int(i.split(\"-\")[1])\n",
    "            if(max<num): max = num\n",
    "        except: continue\n",
    "    path = path_f+\"/\"+folder_name+\"/data-\"+str(max+1)\n",
    "    os.mkdir(path)\n",
    "    return path\n",
    "\n",
    "# connect to client\n",
    "def connect(sc, server_address):\n",
    "    print(\"Connecting to the server...\")\n",
    "    while True:\n",
    "        try:\n",
    "            sc.connect(server_address)\n",
    "            break\n",
    "        except:\n",
    "            ()\n",
    "    print(\"[Connected]\", server_address)\n",
    "    return sc\n",
    "    "
   ]
  },
  {
   "cell_type": "markdown",
   "metadata": {},
   "source": [
    "### AES - ECB mode"
   ]
  },
  {
   "cell_type": "code",
   "execution_count": 6,
   "metadata": {},
   "outputs": [],
   "source": [
    "LENGTH_IV = AES.block_size\n",
    "def encode_AES(data, key, mode):\n",
    "    if mode != AES.MODE_ECB:\n",
    "        IV = Random.new().read(LENGTH_IV)\n",
    "        cipher = AES.new(key, mode, IV)\n",
    "        ciphertext =   IV + cipher.encrypt(data)\n",
    "    else:\n",
    "        cipher = AES.new(key, AES.MODE_ECB)\n",
    "        ciphertext = cipher.encrypt(data)\n",
    "    return ciphertext\n",
    "\n",
    "def decode_AES(data_enc, key, mode): # decode AES\n",
    "    if mode != AES.MODE_ECB:\n",
    "        IV_rec = data_enc[:LENGTH_IV]\n",
    "        cipher = AES.new(key, mode, IV_rec)\n",
    "        plaintext = cipher.decrypt(data_enc[LENGTH_IV:])\n",
    "    else:\n",
    "        cipher = AES.new(key, AES.MODE_ECB)\n",
    "        plaintext = cipher.decrypt(data_enc)\n",
    "    return plaintext"
   ]
  },
  {
   "cell_type": "markdown",
   "metadata": {},
   "source": [
    "### Function to receive image from server"
   ]
  },
  {
   "cell_type": "code",
   "execution_count": 7,
   "metadata": {},
   "outputs": [],
   "source": [
    "def RecvImage(sc, key_AES, mode):\n",
    "    print(\"Waiting for Server...\")\n",
    "\n",
    "    # create folder to save data\n",
    "    save_path = make_folder(\"Client_images\")\n",
    "    len_data = HEIGHT*WIDTH*3 #size of a frame\n",
    "    if mode != AES.MODE_ECB:\n",
    "        len_data+=LENGTH_IV\n",
    "\n",
    "    s_time = time.time()\n",
    "    data_enc = recv_all(sc, len_data) # receive data    \n",
    "    sc.send(b\"Done\")\n",
    "\n",
    "    # Save Data\n",
    "    f_data_enc = open(save_path+\"/Data-received-from-server.enc\", \"wb\")\n",
    "    f_data_enc.write(data_enc)\n",
    "    f_data_enc.close()\n",
    "    rec_time = time.time()\n",
    "    print(\" - Received data: %d KB (%.3f seconds)\" %(int(len(data_enc)/1024),rec_time-s_time))\n",
    "\n",
    "    # Save Image befor AES-decode   \n",
    "    if mode == AES.MODE_ECB:\n",
    "        data_after_dec = np.frombuffer(data_enc, dtype = np.uint8)   # data encoded-> array\n",
    "    else:\n",
    "        data_after_dec = np.frombuffer(data_enc[LENGTH_IV:], dtype = np.uint8)\n",
    "    data_after_dec = data_after_dec.reshape(HEIGHT, WIDTH, 3) # array encoded-> encoded image\n",
    "    cv2.imwrite(save_path+\"/image-before-decryption.bmp\", data_after_dec)\n",
    "    save_img_time = time.time()\n",
    "\n",
    "    #Decode AES\n",
    "    img_de = decode_AES(data_enc, key_AES, mode) # decode AES\n",
    "    img_de = np.frombuffer(img_de,dtype = np.uint8) # byte to array\n",
    "    img_de = img_de.reshape(HEIGHT, WIDTH, 3) # array to image\n",
    "    aes_time =  time.time()\n",
    "    print(\" - Decoded AES. (%.3f seconds)\" %(aes_time-save_img_time))\n",
    "    \n",
    "    # Save Image after AES-decode\n",
    "    cv2.imwrite(save_path + \"/AES-decrypted-image\" + \".bmp\",img_de)\n",
    "    print(\"The data has been saved to the path: %s\" %save_path)\n",
    "\n",
    "    cv2.imshow(\"The image received from server\", data_after_dec)\n",
    "    cv2.imshow(\"AES decrypted image\",img_de) # show decoded data\n",
    "    cv2.waitKey(0)\n",
    "    \n",
    "    print(\"Done!\")"
   ]
  },
  {
   "cell_type": "markdown",
   "metadata": {},
   "source": [
    "### Main function"
   ]
  },
  {
   "cell_type": "markdown",
   "metadata": {},
   "source": [
    "- **Enter key**"
   ]
  },
  {
   "cell_type": "code",
   "execution_count": 8,
   "metadata": {},
   "outputs": [
    {
     "name": "stdout",
     "output_type": "stream",
     "text": [
      "Your AES key:  b'Nhom-17Nhom-17Nh'\n"
     ]
    }
   ],
   "source": [
    "key = \"Nhom-17\"\n",
    "key_AES = generateAESKey(key, 16)\n",
    "print(\"Your AES key: \", key_AES)"
   ]
  },
  {
   "cell_type": "markdown",
   "metadata": {},
   "source": [
    "- **Make a connection to the server**"
   ]
  },
  {
   "cell_type": "code",
   "execution_count": 9,
   "metadata": {},
   "outputs": [
    {
     "name": "stdout",
     "output_type": "stream",
     "text": [
      "Connecting to the server...\n",
      "[Connected] ('192.168.137.1', 8000)\n"
     ]
    }
   ],
   "source": [
    "SC = connect(SC, server_address)"
   ]
  },
  {
   "cell_type": "markdown",
   "metadata": {},
   "source": [
    "#### Transmit the image with ECB mode"
   ]
  },
  {
   "cell_type": "code",
   "execution_count": 10,
   "metadata": {},
   "outputs": [
    {
     "name": "stdout",
     "output_type": "stream",
     "text": [
      "Waiting for Server...\n",
      " - Received data: 1878 KB (16.105 seconds)\n",
      " - Decoded AES. (0.007 seconds)\n",
      "The data has been saved to the path: C:\\Users\\DELL\\Documents\\Python\\AES/Client_images/data-14\n",
      "Done!\n"
     ]
    }
   ],
   "source": [
    "RecvImage(SC, key_AES, AES.MODE_ECB)\n",
    " "
   ]
  },
  {
   "cell_type": "markdown",
   "metadata": {},
   "source": [
    "#### Transmit the image with CBC mode"
   ]
  },
  {
   "cell_type": "code",
   "execution_count": 11,
   "metadata": {},
   "outputs": [
    {
     "name": "stdout",
     "output_type": "stream",
     "text": [
      "Waiting for Server...\n",
      " - Received data: 1878 KB (0.003 seconds)\n",
      " - Decoded AES. (0.008 seconds)\n",
      "The data has been saved to the path: C:\\Users\\DELL\\Documents\\Python\\AES/Client_images/data-15\n",
      "Done!\n"
     ]
    }
   ],
   "source": [
    "RecvImage(SC, key_AES, AES.MODE_CBC)"
   ]
  },
  {
   "cell_type": "code",
   "execution_count": 12,
   "metadata": {},
   "outputs": [],
   "source": [
    "SC.close()"
   ]
  }
 ],
 "metadata": {
  "kernelspec": {
   "display_name": "Python 3 (ipykernel)",
   "language": "python",
   "name": "python3"
  },
  "language_info": {
   "codemirror_mode": {
    "name": "ipython",
    "version": 3
   },
   "file_extension": ".py",
   "mimetype": "text/x-python",
   "name": "python",
   "nbconvert_exporter": "python",
   "pygments_lexer": "ipython3",
   "version": "3.7.1"
  },
  "vscode": {
   "interpreter": {
    "hash": "fbc768028c3e6ead51d9a200ddcb2ec858ae62844dcd1994729a8279be9b48f2"
   }
  }
 },
 "nbformat": 4,
 "nbformat_minor": 2
}
