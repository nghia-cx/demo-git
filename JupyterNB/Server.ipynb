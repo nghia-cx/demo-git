{
 "cells": [
  {
   "cell_type": "markdown",
   "metadata": {},
   "source": [
    "# Server"
   ]
  },
  {
   "cell_type": "markdown",
   "metadata": {},
   "source": [
    "### Libraries"
   ]
  },
  {
   "cell_type": "markdown",
   "metadata": {},
   "source": [
    "Install libraries"
   ]
  },
  {
   "cell_type": "code",
   "execution_count": 1,
   "metadata": {},
   "outputs": [
    {
     "name": "stdout",
     "output_type": "stream",
     "text": [
      "C:\\Users\\DELL\\Documents\\Python\\AES\n"
     ]
    }
   ],
   "source": [
    "%cd \"C:\\Users\\DELL\\Documents\\Python\\AES\""
   ]
  },
  {
   "cell_type": "code",
   "execution_count": 2,
   "metadata": {},
   "outputs": [],
   "source": [
    "# %pip install -r requirements.txt"
   ]
  },
  {
   "cell_type": "markdown",
   "metadata": {},
   "source": [
    "Import libraries"
   ]
  },
  {
   "cell_type": "code",
   "execution_count": 3,
   "metadata": {},
   "outputs": [
    {
     "name": "stdout",
     "output_type": "stream",
     "text": [
      "C:\\Users\\DELL\\Documents\\Python\\venv\\lib\\site-packages\\numpy\\.libs\\libopenblas.XWYDX2IKJW2NMTWSFYNGFUWKQU3LYTCZ.gfortran-win_amd64.dll\n"
     ]
    }
   ],
   "source": [
    "import socket\n",
    "import numpy as np\n",
    "import cv2\n",
    "from Crypto.Cipher import AES\n",
    "import os\n",
    "import glob\n",
    "import time\n",
    "from Crypto import Random\n",
    "import matplotlib.pyplot as plt\n",
    "import matplotlib.image as mpimg"
   ]
  },
  {
   "cell_type": "markdown",
   "metadata": {},
   "source": [
    "### Server socket"
   ]
  },
  {
   "cell_type": "code",
   "execution_count": 4,
   "metadata": {},
   "outputs": [],
   "source": [
    "HOST='192.168.137.1'\n",
    "PORT=8000\n",
    "WIDTH = 668\n",
    "HEIGHT = 960\n",
    "s = socket.socket(socket.AF_INET, socket.SOCK_STREAM)\n",
    "s.bind((HOST, PORT))\n",
    "s.listen(2)"
   ]
  },
  {
   "cell_type": "markdown",
   "metadata": {},
   "source": [
    "### Helps function:\n",
    "- Receive data\n",
    "- Generate 128/192/256 bit key from any key\n",
    "- Make folder to save datas\n",
    "- Socket connection\n",
    "- Caputure an image from camera"
   ]
  },
  {
   "cell_type": "code",
   "execution_count": 5,
   "metadata": {},
   "outputs": [],
   "source": [
    "def recv_all(sc, length):\n",
    "    data = sc.recv(length)\n",
    "    while True:\n",
    "        miss_len_data = length - len(data)\n",
    "        if miss_len_data==0:\n",
    "            break\n",
    "        data += sc.recv(miss_len_data)\n",
    "    return data\n",
    "\n",
    "def generateAESKey(key_string, len_key):\n",
    "    '''Generate 128/192/256 bit key from any key'''\n",
    "    key = bytes(key_string,\"utf8\")\n",
    "    while len(key)<len_key:\n",
    "        key = key + key\n",
    "    return key[:len_key]\n",
    "\n",
    "def make_folder(folder_name):\n",
    "    path_f = os.path.abspath('')\n",
    "    if os.path.isdir(path_f+\"/\"+folder_name) == False:\n",
    "        os.mkdir(path_f+\"/\"+folder_name)\n",
    "    list_folder = glob.glob(path_f+\"/\"+folder_name+\"/*\")\n",
    "    max=0\n",
    "    for i in list_folder:\n",
    "        try:\n",
    "            num = int(i.split(\"-\")[1])\n",
    "            if(max<num): max = num\n",
    "        except: continue\n",
    "    path = path_f+\"/\"+folder_name+\"/data-\"+str(max+1)\n",
    "    os.mkdir(path)\n",
    "    return path\n",
    "\n",
    "# connect to client\n",
    "def connect(s):\n",
    "    print(\"Connecting...\")\n",
    "    try: \n",
    "        client, addr = s.accept()\n",
    "        print('Connected by', addr)\n",
    "        \n",
    "    except:\n",
    "        print(\"Run Client.py, Please\")\n",
    "    return client, addr\n",
    "\n",
    "def takeImage(folder_save):\n",
    "    print(\"Waiting for your camera...\")\n",
    "    vid = cv2.VideoCapture(0)\n",
    "    # capture image \n",
    "    while True:\n",
    "        rate,frame = vid.read() # read image from camera\n",
    "        frame = cv2.resize(frame,(WIDTH,HEIGHT)) # resize image        \n",
    "        \n",
    "        if cv2.waitKey(1) & 0xFF == ord(' '): \n",
    "            # create folder\n",
    "            \n",
    "            cv2.imwrite(folder_save+\"/The-original-image.bmp\",frame) # save image\n",
    "            cv2.destroyWindow(\"Camera\")\n",
    "            cv2.imshow(\"Capture\",frame) # show image\n",
    "            print(\"Took photos!\")\n",
    "            break\n",
    "        frame = cv2.putText(frame, \"Press 'space' to take a photo\", (10,20), cv2.FONT_HERSHEY_SIMPLEX, 0.5, (0,0,255), 2)\n",
    "        cv2.imshow(\"Capture\",frame) # show image\n",
    "    cv2.destroyAllWindows()\n",
    "    return frame\n",
    "\n",
    "\n",
    "    "
   ]
  },
  {
   "cell_type": "markdown",
   "metadata": {},
   "source": [
    "### AES encryption and decryption"
   ]
  },
  {
   "cell_type": "code",
   "execution_count": 6,
   "metadata": {},
   "outputs": [],
   "source": [
    "LENGTH_IV = AES.block_size\n",
    "def encode_AES(data, key, mode):\n",
    "    if mode != AES.MODE_ECB:\n",
    "        IV = Random.new().read(LENGTH_IV)\n",
    "        cipher = AES.new(key, mode, IV)\n",
    "        ciphertext =   IV + cipher.encrypt(data)\n",
    "    else:\n",
    "        cipher = AES.new(key, AES.MODE_ECB)\n",
    "        ciphertext = cipher.encrypt(data)\n",
    "    return ciphertext\n",
    "\n",
    "def decode_AES(data_enc, key, mode): # decode AES\n",
    "    if mode != AES.MODE_ECB:\n",
    "        IV_rec = data_enc[:LENGTH_IV]\n",
    "        cipher = AES.new(key, mode, IV_rec)\n",
    "        plaintext = cipher.decrypt(data_enc[LENGTH_IV:])\n",
    "    else:\n",
    "        cipher = AES.new(key, AES.MODE_ECB)\n",
    "        plaintext = cipher.decrypt(data_enc)\n",
    "    return plaintext"
   ]
  },
  {
   "cell_type": "markdown",
   "metadata": {},
   "source": [
    "### Function that send an image to the client"
   ]
  },
  {
   "cell_type": "code",
   "execution_count": 7,
   "metadata": {},
   "outputs": [],
   "source": [
    "def sendImage(client, image, key_AES, mode, save_path):\n",
    "    print(\"Waiting for Client... \")\n",
    "    \n",
    "    # encode image\n",
    "    st_time = time.time()\n",
    "    im_byte = np.array(image).tobytes() # image -> bytes\n",
    "    data_enc = encode_AES(im_byte, key_AES, mode) # encode AES\n",
    "    enc_time = time.time()\n",
    "    print(\" - Encoded AES-%d (%.3f seconds)\" %(8*len(key_AES),enc_time-st_time))\n",
    "\n",
    "    # Send data\n",
    "    print(\" - Sending data to client...\")\n",
    "    client.send(data_enc) # send encoded data \n",
    "    recv_all(client,4) # wait server response\n",
    "    print(\"   Client has received data! \" )\n",
    "\n",
    "    f_data_enc = open(save_path+\"/Data-sent-to-client.enc\", \"wb\")\n",
    "    f_data_enc.write(data_enc)\n",
    "    f_data_enc.close()\n",
    "\n",
    "    # Show image encoded\n",
    "    if mode ==AES.MODE_ECB:\n",
    "        data_enc = np.frombuffer(data_enc, dtype = np.uint8)   #encoded data -> array\n",
    "    else:\n",
    "        data_enc = np.frombuffer(data_enc[LENGTH_IV:], dtype = np.uint8)\n",
    "    data_enc = data_enc.reshape(HEIGHT, WIDTH, 3) # array encoded-> encoded image \n",
    "\n",
    "    cv2.imshow(\"Image encoded\",data_enc) # show encoded image\n",
    "    cv2.imwrite(save_path+\"/AES-encrypted-image.bmp\", data_enc)\n",
    "    cv2.waitKey(0)\n",
    "    print(\"Done!\")\n",
    "\n",
    "# def sendText(client, text, key_AES, mode, save_path):\n",
    "\n",
    "#     print(\"Waiting for Client... \")\n",
    "    \n",
    "#     # encode image\n",
    "#     st_time = time.time()\n",
    "#     te_byte = np.array(text).tobytes() # image -> bytes\n",
    "#     data_enc = encode_AES(te_byte, key_AES, mode) # encode AES\n",
    "#     enc_time = time.time()\n",
    "#     # with open(save_path,'rb') as f:\n",
    "#     #     client.send(f.read())\n",
    "#     #     f.close()\n",
    "    \n",
    "#     print(\" - Encoded AES-%d (%.3f seconds)\" %(8*len(key_AES),enc_time-st_time))\n",
    "\n",
    "#     # Send data\n",
    "#     print(\" - Sending data to client...\")\n",
    "#     client.send(data_enc) # send encoded data \n",
    "#     recv_all(client,4) # wait server response\n",
    "#     print(\"   Client has received data! \" )\n",
    "    \n",
    "#     f_data_enc = open(save_path+\"/Data-sent-to-client.enc\", \"wb\")\n",
    "#     f_data_enc.write(data_enc)\n",
    "#     f_data_enc.close()\n",
    "\n",
    "    \n",
    "\n",
    "\n",
    "    # cv2.imshow(\"File  encoded\",data_enc) # show encoded image\n",
    "    # cv2.imwrite(save_path+\"/AES-encrypted-image.bmp\", data_enc)\n",
    "    # cv2.waitKey(0)\n",
    "#     print(\"Done!\")"
   ]
  },
  {
   "cell_type": "markdown",
   "metadata": {},
   "source": [
    "### Main function"
   ]
  },
  {
   "cell_type": "markdown",
   "metadata": {},
   "source": [
    "- **Enter key**"
   ]
  },
  {
   "cell_type": "code",
   "execution_count": 8,
   "metadata": {},
   "outputs": [
    {
     "name": "stdout",
     "output_type": "stream",
     "text": [
      "Your AES key:  b'Nhom-17Nhom-17Nh'\n"
     ]
    }
   ],
   "source": [
    "key = \"Nhom-17\"\n",
    "\n",
    "key_AES = generateAESKey(key, 16) # create AES key (128bit)\n",
    "print(\"Your AES key: \", key_AES)"
   ]
  },
  {
   "cell_type": "markdown",
   "metadata": {},
   "source": [
    "- **Make a connection to the client**"
   ]
  },
  {
   "cell_type": "code",
   "execution_count": 9,
   "metadata": {},
   "outputs": [
    {
     "name": "stdout",
     "output_type": "stream",
     "text": [
      "Connecting...\n",
      "Connected by ('192.168.137.181', 49625)\n"
     ]
    }
   ],
   "source": [
    "client, addr = connect(s) "
   ]
  },
  {
   "cell_type": "markdown",
   "metadata": {},
   "source": [
    "- **Take an image from camera**"
   ]
  },
  {
   "cell_type": "code",
   "execution_count": 10,
   "metadata": {},
   "outputs": [
    {
     "data": {
      "text/plain": [
       "<matplotlib.image.AxesImage at 0x25732bf02b0>"
      ]
     },
     "execution_count": 10,
     "metadata": {},
     "output_type": "execute_result"
    },
    {
     "data": {
      "image/png": "[encoded data removed]",
      "text/plain": [
       "<Figure size 432x288 with 1 Axes>"
      ]
     },
     "metadata": {
      "needs_background": "light"
     },
     "output_type": "display_data"
    }
   ],
   "source": [
    "save_path = make_folder(\"Server_images\") # make folder to save image\n",
    "# image = takeImage(save_path)    # take image from camera\n",
    "path = r\"C:\\Users\\DELL\\Pictures\\Saved Pictures\\Team17.jpg\"\n",
    "img = mpimg.imread(path)\n",
    "plt.imshow(img)\n"
   ]
  },
  {
   "cell_type": "code",
   "execution_count": 11,
   "metadata": {},
   "outputs": [],
   "source": [
    "image = cv2.imread(path)\n",
    "image = cv2.resize(image,(WIDTH,HEIGHT))\n"
   ]
  },
  {
   "cell_type": "markdown",
   "metadata": {},
   "source": [
    "#### Transmit the image with ECB mode"
   ]
  },
  {
   "cell_type": "code",
   "execution_count": 12,
   "metadata": {},
   "outputs": [
    {
     "name": "stdout",
     "output_type": "stream",
     "text": [
      "Waiting for Client... \n",
      " - Encoded AES-128 (0.004 seconds)\n",
      " - Sending data to client...\n",
      "   Client has received data! \n",
      "Done!\n"
     ]
    }
   ],
   "source": [
    "sendImage(client, image, key_AES, AES.MODE_ECB, save_path)"
   ]
  },
  {
   "cell_type": "markdown",
   "metadata": {},
   "source": [
    "#### Transmit the image with CBC mode"
   ]
  },
  {
   "cell_type": "code",
   "execution_count": 13,
   "metadata": {},
   "outputs": [
    {
     "name": "stdout",
     "output_type": "stream",
     "text": [
      "Waiting for Client... \n",
      " - Encoded AES-128 (0.007 seconds)\n",
      " - Sending data to client...\n",
      "   Client has received data! \n",
      "Done!\n"
     ]
    }
   ],
   "source": [
    "sendImage(client, image, key_AES, AES.MODE_CBC, save_path)"
   ]
  },
  {
   "cell_type": "code",
   "execution_count": 14,
   "metadata": {},
   "outputs": [],
   "source": [
    "# text = input()\n",
    "# sendText(client,text,key_AES,AES.MODE_ECB,save_path)"
   ]
  },
  {
   "cell_type": "code",
   "execution_count": 15,
   "metadata": {},
   "outputs": [],
   "source": [
    "client.close()"
   ]
  },
  {
   "cell_type": "code",
   "execution_count": null,
   "metadata": {},
   "outputs": [],
   "source": []
  }
 ],
 "metadata": {
  "kernelspec": {
   "display_name": "Python 3 (ipykernel)",
   "language": "python",
   "name": "python3"
  },
  "language_info": {
   "codemirror_mode": {
    "name": "ipython",
    "version": 3
   },
   "file_extension": ".py",
   "mimetype": "text/x-python",
   "name": "python",
   "nbconvert_exporter": "python",
   "pygments_lexer": "ipython3",
   "version": "3.7.1"
  },
  "vscode": {
   "interpreter": {
    "hash": "999ea782e2d719ec62688e738a2ff20f2535cd73f1388dd13a2d835295a4fc1a"
   }
  }
 },
 "nbformat": 4,
 "nbformat_minor": 2
}
